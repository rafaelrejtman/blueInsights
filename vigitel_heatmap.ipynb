{
 "cells": [
  {
   "cell_type": "markdown",
   "metadata": {},
   "source": [
    "# Geographic Heatmap in Python with Folium\n",
    "\n",
    "__Python 3.4+__  \n",
    "\n",
    "This notebook has a [companion blog post](https://alcidanalytics.com/p/geographic-heatmap-in-python). In summary it's an example of using folium to generate interactive geographic heatmaps. It also shows how to add arbitrary shapefiles and geojson to leaflet maps with geopandas.\n",
    "\n",
    "__The tools__: \n",
    "- [folium](https://github.com/python-visualization/folium) a Python library that outputs HTML with leaflet.js maps\n",
    "- [geopandas](geopandas.org) extends the datatypes used by pandas to allow spatial operations on geometric types\n",
    "\n",
    "__The data__: \n",
    "- shapefiles and congressional boundaries from [census.gov](https://www.census.gov/geo/maps-data/)\n",
    "- campaign contribution data from [followthemoney.org](http://www.followthemoney.org/our-data/about-our-data/)"
   ]
  },
  {
   "cell_type": "markdown",
   "metadata": {},
   "source": [
    "## Load Patient Vigitel Data"
   ]
  },
  {
   "cell_type": "code",
   "execution_count": 2,
   "metadata": {},
   "outputs": [
    {
     "data": {
      "text/html": [
       "<div>\n",
       "<style scoped>\n",
       "    .dataframe tbody tr th:only-of-type {\n",
       "        vertical-align: middle;\n",
       "    }\n",
       "\n",
       "    .dataframe tbody tr th {\n",
       "        vertical-align: top;\n",
       "    }\n",
       "\n",
       "    .dataframe thead th {\n",
       "        text-align: right;\n",
       "    }\n",
       "</style>\n",
       "<table border=\"1\" class=\"dataframe\">\n",
       "  <thead>\n",
       "    <tr style=\"text-align: right;\">\n",
       "      <th></th>\n",
       "      <th>cidade</th>\n",
       "      <th>diabeticos</th>\n",
       "      <th>latitude</th>\n",
       "      <th>longitude</th>\n",
       "    </tr>\n",
       "  </thead>\n",
       "  <tbody>\n",
       "    <tr>\n",
       "      <th>20</th>\n",
       "      <td>rio de janeiro</td>\n",
       "      <td>14.820286</td>\n",
       "      <td>-22.911014</td>\n",
       "      <td>-43.209373</td>\n",
       "    </tr>\n",
       "    <tr>\n",
       "      <th>4</th>\n",
       "      <td>campo grande</td>\n",
       "      <td>14.271654</td>\n",
       "      <td>-20.464017</td>\n",
       "      <td>-54.616295</td>\n",
       "    </tr>\n",
       "    <tr>\n",
       "      <th>6</th>\n",
       "      <td>curitiba</td>\n",
       "      <td>13.475521</td>\n",
       "      <td>-25.429596</td>\n",
       "      <td>-49.271272</td>\n",
       "    </tr>\n",
       "    <tr>\n",
       "      <th>12</th>\n",
       "      <td>maceio</td>\n",
       "      <td>13.375486</td>\n",
       "      <td>-9.647684</td>\n",
       "      <td>-35.733926</td>\n",
       "    </tr>\n",
       "    <tr>\n",
       "      <th>25</th>\n",
       "      <td>vitoria</td>\n",
       "      <td>13.284672</td>\n",
       "      <td>-20.320092</td>\n",
       "      <td>-40.337668</td>\n",
       "    </tr>\n",
       "  </tbody>\n",
       "</table>\n",
       "</div>"
      ],
      "text/plain": [
       "            cidade  diabeticos   latitude  longitude\n",
       "20  rio de janeiro   14.820286 -22.911014 -43.209373\n",
       "4     campo grande   14.271654 -20.464017 -54.616295\n",
       "6         curitiba   13.475521 -25.429596 -49.271272\n",
       "12          maceio   13.375486  -9.647684 -35.733926\n",
       "25         vitoria   13.284672 -20.320092 -40.337668"
      ]
     },
     "execution_count": 2,
     "metadata": {},
     "output_type": "execute_result"
    }
   ],
   "source": [
    "import pandas as pd \n",
    "\n",
    "diab_map = pd.read_csv('vigitelData/results/diabeticosPorCidade.csv')\n",
    "diab_map.columns = ['cidade', 'diabeticos', 'latitude', 'longitude']\n",
    "diab_map.sort_values('diabeticos', ascending=False).head()"
   ]
  },
  {
   "cell_type": "code",
   "execution_count": 3,
   "metadata": {},
   "outputs": [
    {
     "data": {
      "text/html": [
       "<div>\n",
       "<style scoped>\n",
       "    .dataframe tbody tr th:only-of-type {\n",
       "        vertical-align: middle;\n",
       "    }\n",
       "\n",
       "    .dataframe tbody tr th {\n",
       "        vertical-align: top;\n",
       "    }\n",
       "\n",
       "    .dataframe thead th {\n",
       "        text-align: right;\n",
       "    }\n",
       "</style>\n",
       "<table border=\"1\" class=\"dataframe\">\n",
       "  <thead>\n",
       "    <tr style=\"text-align: right;\">\n",
       "      <th></th>\n",
       "      <th>cidade</th>\n",
       "      <th>hipertensos</th>\n",
       "      <th>latitude</th>\n",
       "      <th>longitude</th>\n",
       "    </tr>\n",
       "  </thead>\n",
       "  <tbody>\n",
       "    <tr>\n",
       "      <th>20</th>\n",
       "      <td>rio de janeiro</td>\n",
       "      <td>915</td>\n",
       "      <td>-22.911014</td>\n",
       "      <td>-43.209373</td>\n",
       "    </tr>\n",
       "    <tr>\n",
       "      <th>9</th>\n",
       "      <td>goiania</td>\n",
       "      <td>854</td>\n",
       "      <td>-16.680882</td>\n",
       "      <td>-49.253269</td>\n",
       "    </tr>\n",
       "    <tr>\n",
       "      <th>4</th>\n",
       "      <td>campo grande</td>\n",
       "      <td>847</td>\n",
       "      <td>-20.464017</td>\n",
       "      <td>-54.616295</td>\n",
       "    </tr>\n",
       "    <tr>\n",
       "      <th>16</th>\n",
       "      <td>porto alegre</td>\n",
       "      <td>846</td>\n",
       "      <td>-30.032500</td>\n",
       "      <td>-51.230377</td>\n",
       "    </tr>\n",
       "    <tr>\n",
       "      <th>5</th>\n",
       "      <td>cuiaba</td>\n",
       "      <td>838</td>\n",
       "      <td>-15.598669</td>\n",
       "      <td>-56.099130</td>\n",
       "    </tr>\n",
       "  </tbody>\n",
       "</table>\n",
       "</div>"
      ],
      "text/plain": [
       "            cidade  hipertensos   latitude  longitude\n",
       "20  rio de janeiro          915 -22.911014 -43.209373\n",
       "9          goiania          854 -16.680882 -49.253269\n",
       "4     campo grande          847 -20.464017 -54.616295\n",
       "16    porto alegre          846 -30.032500 -51.230377\n",
       "5           cuiaba          838 -15.598669 -56.099130"
      ]
     },
     "execution_count": 3,
     "metadata": {},
     "output_type": "execute_result"
    }
   ],
   "source": [
    "hipert_map = pd.read_csv('vigitelData/results/hipertensosPorCidade.csv')\n",
    "hipert_map.columns = ['cidade', 'hipertensos', 'latitude', 'longitude']\n",
    "hipert_map.sort_values('hipertensos', ascending=False).head()"
   ]
  },
  {
   "cell_type": "markdown",
   "metadata": {},
   "source": [
    "## Diabetics & Hipertension Heatmap"
   ]
  },
  {
   "cell_type": "code",
   "execution_count": 5,
   "metadata": {},
   "outputs": [
    {
     "data": {
      "text/html": [
       "<div style=\"width:100%;\"><div style=\"position:relative;width:100%;height:0;padding-bottom:60%;\"><iframe src=\"data:text/html;charset=utf-8;base64,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\" style=\"position:absolute;width:100%;height:100%;left:0;top:0;border:none !important;\" allowfullscreen webkitallowfullscreen mozallowfullscreen></iframe></div></div>"
      ],
      "text/plain": [
       "<folium.folium.Map at 0x11f2c0b38>"
      ]
     },
     "execution_count": 5,
     "metadata": {},
     "output_type": "execute_result"
    }
   ],
   "source": [
    "import folium\n",
    "from folium.plugins import HeatMap\n",
    "\n",
    "fullMap = folium.Map(location=[-15.77, -47.92], zoom_start=4, )\n",
    "\n",
    "# Diabetes Layer\n",
    "dmax_amount = float(diab_map['diabeticos'].max())\n",
    "dMap = HeatMap(list(zip(diab_map.latitude.values.tolist(), diab_map.longitude.values.tolist(), diab_map.diabeticos.values.tolist())), \n",
    "                   min_opacity=0.3,\n",
    "                   max_val=dmax_amount,\n",
    "                   radius=20, blur=20, \n",
    "                   max_zoom=1,\n",
    "                   name='Diabetes',\n",
    "                   overlay = True,\n",
    "                   scale_radius = False,\n",
    "                   \n",
    "                 )\n",
    "\n",
    "# # Hipertension Layer\n",
    "# hmax_amount = float(hipert_map['hipertensos'].max())\n",
    "# hMap = HeatMap( list(zip(hipert_map.latitude.values.tolist(), hipert_map.longitude.values.tolist(), hipert_map.hipertensos.values.tolist())), \n",
    "#                    min_opacity=0.3,\n",
    "#                    max_val=dmax_amount,\n",
    "#                    radius=30, blur=20, \n",
    "#                    max_zoom=1,\n",
    "#                    name='Hipertensos',\n",
    "#                    overlay=True,\n",
    "#                    show=False\n",
    "#                  )\n",
    "\n",
    "fullMap.add_child(dMap)\n",
    "# fullMap.add_child(hMap)\n",
    "\n",
    "# folium.LayerControl().add_to(fullMap)\n",
    "\n",
    "fullMap"
   ]
  },
  {
   "cell_type": "code",
   "execution_count": 87,
   "metadata": {},
   "outputs": [],
   "source": [
    "fullMap.save('vigitelData/results/blueHeatmap.html')"
   ]
  },
  {
   "cell_type": "code",
   "execution_count": null,
   "metadata": {
    "collapsed": true
   },
   "outputs": [],
   "source": []
  }
 ],
 "metadata": {
  "kernelspec": {
   "display_name": ".blueI",
   "language": "python",
   "name": ".bluei"
  },
  "language_info": {
   "codemirror_mode": {
    "name": "ipython",
    "version": 3
   },
   "file_extension": ".py",
   "mimetype": "text/x-python",
   "name": "python",
   "nbconvert_exporter": "python",
   "pygments_lexer": "ipython3",
   "version": "3.7.1"
  }
 },
 "nbformat": 4,
 "nbformat_minor": 1
}
